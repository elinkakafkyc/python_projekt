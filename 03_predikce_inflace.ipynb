{
 "cells": [
  {
   "cell_type": "markdown",
   "id": "2c88218f",
   "metadata": {},
   "source": [
    "tohle sme nakonec nepouzily"
   ]
  },
  {
   "cell_type": "code",
   "execution_count": 1,
   "id": "a3405575",
   "metadata": {},
   "outputs": [
    {
     "name": "stdout",
     "output_type": "stream",
     "text": [
      "    rok   mzda  inflace\n",
      "0  2016  30960      0.7\n",
      "1  2017  33236      2.5\n",
      "2  2018  35909      2.1\n",
      "3  2019  38254      2.8\n",
      "4  2020  39166      3.2\n"
     ]
    }
   ],
   "source": [
    "import pandas as pd\n",
    "data = pd.read_csv(\"mzdy_inflace.csv\")\n",
    "print(data.head())\n"
   ]
  },
  {
   "cell_type": "code",
   "execution_count": 2,
   "id": "7d7ab420",
   "metadata": {},
   "outputs": [
    {
     "name": "stdout",
     "output_type": "stream",
     "text": [
      "                            OLS Regression Results                            \n",
      "==============================================================================\n",
      "Dep. Variable:                inflace   R-squared:                       0.310\n",
      "Model:                            OLS   Adj. R-squared:                  0.211\n",
      "Method:                 Least Squares   F-statistic:                     3.139\n",
      "Date:                Fri, 16 May 2025   Prob (F-statistic):              0.120\n",
      "Time:                        21:59:00   Log-Likelihood:                -24.673\n",
      "No. Observations:                   9   AIC:                             53.35\n",
      "Df Residuals:                       7   BIC:                             53.74\n",
      "Df Model:                           1                                         \n",
      "Covariance Type:            nonrobust                                         \n",
      "==============================================================================\n",
      "                 coef    std err          t      P>|t|      [0.025      0.975]\n",
      "------------------------------------------------------------------------------\n",
      "Intercept  -1961.3222   1109.759     -1.767      0.121   -4585.486     662.842\n",
      "rok            0.9733      0.549      1.772      0.120      -0.326       2.272\n",
      "==============================================================================\n",
      "Omnibus:                        3.938   Durbin-Watson:                   1.772\n",
      "Prob(Omnibus):                  0.140   Jarque-Bera (JB):                0.939\n",
      "Skew:                           0.721   Prob(JB):                        0.625\n",
      "Kurtosis:                       3.654   Cond. No.                     1.58e+06\n",
      "==============================================================================\n",
      "\n",
      "Notes:\n",
      "[1] Standard Errors assume that the covariance matrix of the errors is correctly specified.\n",
      "[2] The condition number is large, 1.58e+06. This might indicate that there are\n",
      "strong multicollinearity or other numerical problems.\n"
     ]
    },
    {
     "name": "stderr",
     "output_type": "stream",
     "text": [
      "/Library/Frameworks/Python.framework/Versions/3.13/lib/python3.13/site-packages/scipy/stats/_axis_nan_policy.py:430: UserWarning: `kurtosistest` p-value may be inaccurate with fewer than 20 observations; only n=9 observations were given.\n",
      "  return hypotest_fun_in(*args, **kwds)\n"
     ]
    }
   ],
   "source": [
    "import statsmodels.formula.api as smf\n",
    "\n",
    "# Inflace jako funkce roku\n",
    "inflace_model = smf.ols(formula=\"inflace ~ rok\", data=data).fit()\n",
    "print(inflace_model.summary())\n"
   ]
  },
  {
   "cell_type": "code",
   "execution_count": 3,
   "id": "8b854dc3",
   "metadata": {},
   "outputs": [
    {
     "name": "stdout",
     "output_type": "stream",
     "text": [
      "    rok  predikovana_inflace\n",
      "0  2024             8.704444\n",
      "1  2025             9.677778\n",
      "2  2026            10.651111\n",
      "3  2027            11.624444\n",
      "4  2028            12.597778\n",
      "5  2029            13.571111\n",
      "6  2030            14.544444\n"
     ]
    }
   ],
   "source": [
    "# Nové roky pro predikci\n",
    "future_years = pd.DataFrame({\n",
    "    \"rok\": [2024, 2025, 2026, 2027, 2028, 2029, 2030]\n",
    "})\n",
    "\n",
    "# Predikce inflace\n",
    "future_years[\"predikovana_inflace\"] = inflace_model.predict(future_years)\n",
    "print(future_years)\n"
   ]
  }
 ],
 "metadata": {
  "kernelspec": {
   "display_name": "Python 3",
   "language": "python",
   "name": "python3"
  },
  "language_info": {
   "codemirror_mode": {
    "name": "ipython",
    "version": 3
   },
   "file_extension": ".py",
   "mimetype": "text/x-python",
   "name": "python",
   "nbconvert_exporter": "python",
   "pygments_lexer": "ipython3",
   "version": "3.13.0"
  }
 },
 "nbformat": 4,
 "nbformat_minor": 5
}

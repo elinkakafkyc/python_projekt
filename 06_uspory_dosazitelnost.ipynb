{
 "cells": [
  {
   "cell_type": "code",
   "execution_count": 1,
   "id": "cf9e534a",
   "metadata": {},
   "outputs": [],
   "source": [
    "import pandas as pd\n"
   ]
  },
  {
   "cell_type": "code",
   "execution_count": 3,
   "id": "2a7b12f0",
   "metadata": {},
   "outputs": [
    {
     "data": {
      "text/html": [
       "<div>\n",
       "<style scoped>\n",
       "    .dataframe tbody tr th:only-of-type {\n",
       "        vertical-align: middle;\n",
       "    }\n",
       "\n",
       "    .dataframe tbody tr th {\n",
       "        vertical-align: top;\n",
       "    }\n",
       "\n",
       "    .dataframe thead th {\n",
       "        text-align: right;\n",
       "    }\n",
       "</style>\n",
       "<table border=\"1\" class=\"dataframe\">\n",
       "  <thead>\n",
       "    <tr style=\"text-align: right;\">\n",
       "      <th></th>\n",
       "      <th>Rok</th>\n",
       "      <th>mzda_cecilka</th>\n",
       "      <th>rocni_uspora_cecilka</th>\n",
       "      <th>mzda_evzen</th>\n",
       "      <th>rocni_uspora_evzen</th>\n",
       "    </tr>\n",
       "  </thead>\n",
       "  <tbody>\n",
       "    <tr>\n",
       "      <th>0</th>\n",
       "      <td>2024</td>\n",
       "      <td>34980</td>\n",
       "      <td>165087</td>\n",
       "      <td>41020</td>\n",
       "      <td>193593</td>\n",
       "    </tr>\n",
       "    <tr>\n",
       "      <th>1</th>\n",
       "      <td>2025</td>\n",
       "      <td>36983</td>\n",
       "      <td>174540</td>\n",
       "      <td>43644</td>\n",
       "      <td>205977</td>\n",
       "    </tr>\n",
       "    <tr>\n",
       "      <th>2</th>\n",
       "      <td>2026</td>\n",
       "      <td>38986</td>\n",
       "      <td>183993</td>\n",
       "      <td>46268</td>\n",
       "      <td>218361</td>\n",
       "    </tr>\n",
       "    <tr>\n",
       "      <th>3</th>\n",
       "      <td>2027</td>\n",
       "      <td>40989</td>\n",
       "      <td>193447</td>\n",
       "      <td>48892</td>\n",
       "      <td>230745</td>\n",
       "    </tr>\n",
       "    <tr>\n",
       "      <th>4</th>\n",
       "      <td>2028</td>\n",
       "      <td>42992</td>\n",
       "      <td>202900</td>\n",
       "      <td>51516</td>\n",
       "      <td>243128</td>\n",
       "    </tr>\n",
       "    <tr>\n",
       "      <th>5</th>\n",
       "      <td>2029</td>\n",
       "      <td>44995</td>\n",
       "      <td>212353</td>\n",
       "      <td>54140</td>\n",
       "      <td>255512</td>\n",
       "    </tr>\n",
       "    <tr>\n",
       "      <th>6</th>\n",
       "      <td>2030</td>\n",
       "      <td>46998</td>\n",
       "      <td>221806</td>\n",
       "      <td>56764</td>\n",
       "      <td>267896</td>\n",
       "    </tr>\n",
       "  </tbody>\n",
       "</table>\n",
       "</div>"
      ],
      "text/plain": [
       "    Rok  mzda_cecilka  rocni_uspora_cecilka  mzda_evzen  rocni_uspora_evzen\n",
       "0  2024         34980                165087       41020              193593\n",
       "1  2025         36983                174540       43644              205977\n",
       "2  2026         38986                183993       46268              218361\n",
       "3  2027         40989                193447       48892              230745\n",
       "4  2028         42992                202900       51516              243128\n",
       "5  2029         44995                212353       54140              255512\n",
       "6  2030         46998                221806       56764              267896"
      ]
     },
     "execution_count": 3,
     "metadata": {},
     "output_type": "execute_result"
    }
   ],
   "source": [
    "uspory = pd.read_csv(\"05_uspory_evzen_cecilka_2024_2030.csv\")\n",
    "uspory"
   ]
  },
  {
   "cell_type": "code",
   "execution_count": 11,
   "id": "204d4e05",
   "metadata": {},
   "outputs": [
    {
     "name": "stdout",
     "output_type": "stream",
     "text": [
      "Celkem budou mít v roce 2030 naspořeno: 2969338 Kč.\n"
     ]
    }
   ],
   "source": [
    "celkem_uspory = uspory[\"rocni_uspora_cecilka\"].sum() + uspory[\"rocni_uspora_evzen\"].sum()\n",
    "print(f\"Celkem budou mít v roce 2030 naspořeno: {celkem_uspory} Kč.\")\n"
   ]
  },
  {
   "cell_type": "markdown",
   "id": "eb34d177",
   "metadata": {},
   "source": [
    "No jenze kolik bude v roce 2030 stat ta hyposka na byt-uvazovat 10% zaklad? a co materska a dite?\n",
    "Evzenovi je uz ted 32, takze pak uz hitne tu hranici 36 let- vetsi nutny zaklad\n"
   ]
  }
 ],
 "metadata": {
  "kernelspec": {
   "display_name": "Python 3",
   "language": "python",
   "name": "python3"
  },
  "language_info": {
   "codemirror_mode": {
    "name": "ipython",
    "version": 3
   },
   "file_extension": ".py",
   "mimetype": "text/x-python",
   "name": "python",
   "nbconvert_exporter": "python",
   "pygments_lexer": "ipython3",
   "version": "3.13.0"
  }
 },
 "nbformat": 4,
 "nbformat_minor": 5
}

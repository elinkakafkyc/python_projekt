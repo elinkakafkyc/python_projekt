{
 "cells": [
  {
   "cell_type": "markdown",
   "id": "3fc0d5fc",
   "metadata": {},
   "source": [
    "upravene mzdy s materskou a rodicakem"
   ]
  },
  {
   "cell_type": "markdown",
   "id": "a7558730",
   "metadata": {},
   "source": [
    "    rok  inflace  predikovana_mzda_vcetne_materske\n",
    "0  2025    |  2.5  |    44914.253391\\\n",
    "1  2026    |  2.0  |    46867.616315\\\n",
    "2  2027    |  2.0  |    28300\\\n",
    "3  2028    |  2.0  |    14150\\\n",
    "4  2029    |  2.0  |    0\\\n",
    "5  2030    |  2.0  |    54880.514836"
   ]
  },
  {
   "cell_type": "markdown",
   "id": "1b9e03e7",
   "metadata": {},
   "source": [
    "odectene uspory u cecilky v letech 2027-2029\\\n",
    "v roce 2029 proste uspori 0"
   ]
  },
  {
   "cell_type": "code",
   "execution_count": 2,
   "id": "bf3362d0",
   "metadata": {},
   "outputs": [],
   "source": [
    "import pandas as pd"
   ]
  },
  {
   "cell_type": "code",
   "execution_count": 3,
   "id": "41fe049f",
   "metadata": {},
   "outputs": [
    {
     "data": {
      "text/html": [
       "<div>\n",
       "<style scoped>\n",
       "    .dataframe tbody tr th:only-of-type {\n",
       "        vertical-align: middle;\n",
       "    }\n",
       "\n",
       "    .dataframe tbody tr th {\n",
       "        vertical-align: top;\n",
       "    }\n",
       "\n",
       "    .dataframe thead th {\n",
       "        text-align: right;\n",
       "    }\n",
       "</style>\n",
       "<table border=\"1\" class=\"dataframe\">\n",
       "  <thead>\n",
       "    <tr style=\"text-align: right;\">\n",
       "      <th></th>\n",
       "      <th>Rok</th>\n",
       "      <th>mzda_cecilka</th>\n",
       "      <th>rocni_uspora_cecilka</th>\n",
       "      <th>mzda_evzen</th>\n",
       "      <th>rocni_uspora_evzen</th>\n",
       "    </tr>\n",
       "  </thead>\n",
       "  <tbody>\n",
       "    <tr>\n",
       "      <th>0</th>\n",
       "      <td>2024</td>\n",
       "      <td>34980</td>\n",
       "      <td>165087</td>\n",
       "      <td>41020</td>\n",
       "      <td>193593</td>\n",
       "    </tr>\n",
       "    <tr>\n",
       "      <th>1</th>\n",
       "      <td>2025</td>\n",
       "      <td>36983</td>\n",
       "      <td>174540</td>\n",
       "      <td>43644</td>\n",
       "      <td>205977</td>\n",
       "    </tr>\n",
       "    <tr>\n",
       "      <th>2</th>\n",
       "      <td>2026</td>\n",
       "      <td>38986</td>\n",
       "      <td>183993</td>\n",
       "      <td>46268</td>\n",
       "      <td>218361</td>\n",
       "    </tr>\n",
       "    <tr>\n",
       "      <th>3</th>\n",
       "      <td>2027</td>\n",
       "      <td>28300</td>\n",
       "      <td>0</td>\n",
       "      <td>48892</td>\n",
       "      <td>271924</td>\n",
       "    </tr>\n",
       "    <tr>\n",
       "      <th>4</th>\n",
       "      <td>2028</td>\n",
       "      <td>14150</td>\n",
       "      <td>0</td>\n",
       "      <td>51516</td>\n",
       "      <td>99924</td>\n",
       "    </tr>\n",
       "    <tr>\n",
       "      <th>5</th>\n",
       "      <td>2029</td>\n",
       "      <td>0</td>\n",
       "      <td>0</td>\n",
       "      <td>54140</td>\n",
       "      <td>-72075</td>\n",
       "    </tr>\n",
       "    <tr>\n",
       "      <th>6</th>\n",
       "      <td>2030</td>\n",
       "      <td>46998</td>\n",
       "      <td>221806</td>\n",
       "      <td>56764</td>\n",
       "      <td>267896</td>\n",
       "    </tr>\n",
       "  </tbody>\n",
       "</table>\n",
       "</div>"
      ],
      "text/plain": [
       "    Rok  mzda_cecilka  rocni_uspora_cecilka  mzda_evzen  rocni_uspora_evzen\n",
       "0  2024         34980                165087       41020              193593\n",
       "1  2025         36983                174540       43644              205977\n",
       "2  2026         38986                183993       46268              218361\n",
       "3  2027         28300                     0       48892              271924\n",
       "4  2028         14150                     0       51516               99924\n",
       "5  2029             0                     0       54140              -72075\n",
       "6  2030         46998                221806       56764              267896"
      ]
     },
     "execution_count": 3,
     "metadata": {},
     "output_type": "execute_result"
    }
   ],
   "source": [
    "uspory_materska = pd.read_csv(\"09_uspory_materska.csv\")\n",
    "uspory_materska"
   ]
  },
  {
   "cell_type": "code",
   "execution_count": 4,
   "id": "c8e80a18",
   "metadata": {},
   "outputs": [
    {
     "name": "stdout",
     "output_type": "stream",
     "text": [
      "Celkem budou mít v roce 2030 při zohlednění mateřské naspořeno: 1931026 Kč.\n"
     ]
    }
   ],
   "source": [
    "celkem_uspory_materska = uspory_materska[\"rocni_uspora_cecilka\"].sum() + uspory_materska[\"rocni_uspora_evzen\"].sum()\n",
    "print(f\"Celkem budou mít v roce 2030 při zohlednění mateřské naspořeno: {celkem_uspory_materska} Kč.\")"
   ]
  }
 ],
 "metadata": {
  "kernelspec": {
   "display_name": "Python 3",
   "language": "python",
   "name": "python3"
  },
  "language_info": {
   "codemirror_mode": {
    "name": "ipython",
    "version": 3
   },
   "file_extension": ".py",
   "mimetype": "text/x-python",
   "name": "python",
   "nbconvert_exporter": "python",
   "pygments_lexer": "ipython3",
   "version": "3.13.0"
  }
 },
 "nbformat": 4,
 "nbformat_minor": 5
}
